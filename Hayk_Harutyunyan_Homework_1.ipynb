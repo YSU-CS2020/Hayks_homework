{
  "cells": [
    {
      "cell_type": "markdown",
      "metadata": {
        "id": "wvrJxcuKt-S1"
      },
      "source": [
        "# Theory Questions"
      ]
    },
    {
      "cell_type": "markdown",
      "metadata": {
        "id": "p07PzKMpvAm-"
      },
      "source": [
        "## Question 1: CPU and Binary Fundamentals"
      ]
    },
    {
      "cell_type": "code",
      "execution_count": 61,
      "metadata": {
        "id": "MQZczLqHt-FU"
      },
      "outputs": [
        {
          "name": "stdout",
          "output_type": "stream",
          "text": [
            "Theory Question 1 format passed!\n"
          ]
        }
      ],
      "source": [
        "def theory_cpu_binary():\n",
        "    \"\"\"\n",
        "    ANSWER THE FOLLOWING THEORY QUESTIONS:\n",
        "\n",
        "    1. Explain in 2-3 sentences how a CPU processes instructions using only 0s and 1s.\n",
        "\n",
        "    2. Why do we use binary (base-2) instead of decimal (base-10) in computers?\n",
        "\n",
        "    3. How does the CPU differentiate between the number 65 and the character 'A'\n",
        "       if they have the same binary representation?\n",
        "\n",
        "    Return your answers as a list of 3 strings.\n",
        "    \"\"\"\n",
        "    answer1 = (\"The CPU processes instructions as sequences of 0s and 1s called machine code. \"\n",
        "               \"Each combination represents an operation or data, and the CPU fetches, decodes, \"\n",
        "               \"and executes these binary instructions step by step.\")\n",
        "    \n",
        "    answer2 = (\"Binary (base-2) is used because digital circuits have two stable states: on and off. \"\n",
        "               \"This makes it easy to represent data reliably using electrical signals, unlike decimal, \"\n",
        "               \"which would require more complex circuitry.\")\n",
        "    \n",
        "    answer3 = (\"The CPU differentiates based on context and data type definitions in programs. \"\n",
        "               \"Even if the binary value is the same, it interprets it as a number or character depending \"\n",
        "               \"on the instruction or memory type associated with that data.\")\n",
        "\n",
        "    return [answer1, answer2, answer3]\n",
        "\n",
        "# This function tests if answers exist (not content)\n",
        "def test_theory_answers():\n",
        "    answers = theory_cpu_binary()\n",
        "    assert len(answers) == 3, \"Must provide 3 answers\"\n",
        "    assert all(isinstance(ans, str) for ans in answers), \"All answers must be strings\"\n",
        "    assert all(len(ans.strip()) > 0 for ans in answers), \"All answers must be non-empty\"\n",
        "    print(\"Theory Question 1 format passed!\")\n",
        "\n",
        "test_theory_answers()"
      ]
    },
    {
      "cell_type": "markdown",
      "metadata": {
        "id": "nYpxHw1wvSgh"
      },
      "source": [
        "##Question 2: Data Types Memory Usage"
      ]
    },
    {
      "cell_type": "code",
      "execution_count": 62,
      "metadata": {
        "id": "CHIaoUW0vP__"
      },
      "outputs": [
        {
          "name": "stdout",
          "output_type": "stream",
          "text": [
            "Theory Question 2 format passed!\n"
          ]
        }
      ],
      "source": [
        "def theory_data_types():\n",
        "    \"\"\"\n",
        "    ANSWER THE FOLLOWING THEORY QUESTIONS:\n",
        "\n",
        "    1. How many bits are typically used to store:\n",
        "       - An integer in Python?\n",
        "       - A single character?\n",
        "       - A boolean value?\n",
        "\n",
        "    2. Explain why a list can contain different data types but arrays in low-level\n",
        "       languages usually cannot.\n",
        "\n",
        "    3. What happens at the binary level when you convert a string to uppercase?\n",
        "\n",
        "    Return your answers as a dictionary.\n",
        "    \"\"\"\n",
        "    answers = {\n",
        "        \"question1\": (\"- Integer in Python: Python integers are variable-length, \"\n",
        "                      \"but typically a small integer fits in 32 or 64 bits depending on the system.\\n\"\n",
        "                      \"- Single character: 8 bits (1 byte) for standard ASCII.\\n\"\n",
        "                      \"- Boolean: 1 bit logically, but usually stored in 8 bits in memory.\"),\n",
        "        \n",
        "        \"question2\": (\"Python lists can store different data types because they are high-level objects \"\n",
        "                      \"holding references to arbitrary Python objects. \"\n",
        "                      \"Low-level arrays require contiguous memory blocks with fixed-size elements, \"\n",
        "                      \"so all elements must be the same type for efficiency.\"),\n",
        "        \n",
        "        \"question3\": (\"When a string is converted to uppercase, each character's binary ASCII or Unicode code \"\n",
        "                      \"is modified according to the uppercase mapping. For example, 'a' (01100001) becomes 'A' (01000001), \"\n",
        "                      \"changing specific bits that represent the case.\")\n",
        "    }\n",
        "    return answers\n",
        "\n",
        "# Test structure only\n",
        "def test_theory_data_types():\n",
        "    answers = theory_data_types()\n",
        "    assert isinstance(answers, dict), \"Answers must be in dictionary format\"\n",
        "    assert len(answers) == 3, \"Must answer all 3 questions\"\n",
        "    assert all(key in answers for key in [\"question1\", \"question2\", \"question3\"])\n",
        "    print(\"Theory Question 2 format passed!\")\n",
        "\n",
        "test_theory_data_types()"
      ]
    },
    {
      "cell_type": "markdown",
      "metadata": {
        "id": "JCIw0rghvhL6"
      },
      "source": [
        "##Question 3: From Hardware to Programming"
      ]
    },
    {
      "cell_type": "code",
      "execution_count": 64,
      "metadata": {
        "id": "UCi4Y0-0viL5"
      },
      "outputs": [
        {
          "name": "stdout",
          "output_type": "stream",
          "text": [
            "Theory Question 3 format passed!\n"
          ]
        }
      ],
      "source": [
        "def theory_hardware_to_code():\n",
        "    \"\"\"\n",
        "    EXPLAIN THE JOURNEY in 4-5 sentences:\n",
        "\n",
        "    Describe the complete process from when you type a letter on your keyboard\n",
        "    to how that character gets stored in memory as binary, and then how Python\n",
        "    interprets it as a string data type.\n",
        "\n",
        "    Include: keyboard input, ASCII conversion, memory storage, and Python's\n",
        "    string object creation.\n",
        "    \"\"\"\n",
        "    explanation = \"\"\"\n",
        "    1. First, when I press a key on the keyboard, the keyboard hardware detects the key press and generates a scan code representing that key. \n",
        "    2. Then, the keyboard controller sends this scan code to the CPU via the input interface, where it is interpreted using the ASCII or Unicode standard to determine the corresponding character. \n",
        "    3. The CPU then stores this character's numeric code as binary in memory, typically as a sequence of bits (e.g., 8 bits for ASCII). \n",
        "    4. Finally, Python reads this binary value and wraps it in a string object, allowing the program to manipulate it as a high-level data type with all the associated string methods and behaviors.\n",
        "    \"\"\"\n",
        "    \n",
        "    return explanation\n",
        "\n",
        "def test_theory_journey():\n",
        "    explanation = theory_hardware_to_code()\n",
        "    assert isinstance(explanation, str), \"Answer must be a string\"\n",
        "    assert len(explanation.strip()) > 100, \"Provide a detailed explanation (min 100 characters)\"\n",
        "    # Count sentences roughly by counting periods\n",
        "    sentences = explanation.count('.') + explanation.count('!') + explanation.count('?')\n",
        "    assert sentences >= 3, \"Should have at least 3-4 sentences\"\n",
        "    print(\"Theory Question 3 format passed!\")\n",
        "\n",
        "test_theory_journey()"
      ]
    },
    {
      "cell_type": "markdown",
      "metadata": {
        "id": "bIN9wrjktkmF"
      },
      "source": [
        "# Coding Questions\n",
        "\n",
        "These questions, Q4 - Q20 cover:\n",
        "\n",
        "* Low-level concepts: Binary conversion, ASCII, memory representation\n",
        "\n",
        "* Data types: Numbers, strings, lists and their operations\n",
        "\n",
        "* Practical applications: Type conversion, string/list manipulation\n",
        "\n",
        "* Creative thinking: Students create their own problems\n",
        "\n",
        "* Advanced challenges: Bit-level operations and encryption\n",
        "\n",
        "Each question includes assertion tests so You can immediately verify Your solutions!"
      ]
    },
    {
      "cell_type": "markdown",
      "metadata": {
        "id": "_2pdelxN47Pe"
      },
      "source": [
        "#Numerical Operations\n"
      ]
    },
    {
      "cell_type": "markdown",
      "metadata": {
        "id": "LqQpkEo74wRW"
      },
      "source": [
        "##Question 4: Rectangle Area\n",
        "\n"
      ]
    },
    {
      "cell_type": "code",
      "execution_count": 5,
      "metadata": {
        "id": "-8pcbMKE5C8p"
      },
      "outputs": [
        {
          "name": "stdout",
          "output_type": "stream",
          "text": [
            "Question 4 passed!\n"
          ]
        }
      ],
      "source": [
        "def rectangle_area(length, width):\n",
        "    \"\"\"\n",
        "    Calculate the area of a rectangle given its length and width.\n",
        "    Example: (5, 3) -> 15, (10.5, 2) -> 21.0\n",
        "    \"\"\"\n",
        "    \n",
        "    # Your code here\n",
        "    return length * width\n",
        "\n",
        "# Test cases\n",
        "assert rectangle_area(5, 3) == 15\n",
        "assert rectangle_area(10.5, 2) == 21.0\n",
        "assert rectangle_area(0, 10) == 0\n",
        "assert rectangle_area(7, 7) == 49\n",
        "print(\"Question 4 passed!\")"
      ]
    },
    {
      "cell_type": "markdown",
      "metadata": {
        "id": "FtJixKCr5aBl"
      },
      "source": [
        "##Question 5: Celsius to Fahrenheit"
      ]
    },
    {
      "cell_type": "code",
      "execution_count": 6,
      "metadata": {
        "id": "vBuP5YsO5Tl7"
      },
      "outputs": [
        {
          "name": "stdout",
          "output_type": "stream",
          "text": [
            "Question 5 passed!\n"
          ]
        }
      ],
      "source": [
        "def celsius_to_fahrenheit(celsius):\n",
        "    \"\"\"\n",
        "    Convert temperature from Celsius to Fahrenheit.\n",
        "    Formula: Fahrenheit = (Celsius * 9/5) + 32\n",
        "    Example: (0) -> 32, (100) -> 212, (37) -> 98.6\n",
        "    \"\"\"\n",
        "    # Your code here\n",
        "    return (celsius*9/5)+32\n",
        "\n",
        "# Test cases\n",
        "assert celsius_to_fahrenheit(0) == 32\n",
        "assert celsius_to_fahrenheit(100) == 212\n",
        "assert celsius_to_fahrenheit(37) == 98.6\n",
        "assert celsius_to_fahrenheit(-40) == -40\n",
        "print(\"Question 5 passed!\")"
      ]
    },
    {
      "cell_type": "markdown",
      "metadata": {
        "id": "uihch2jb5qHI"
      },
      "source": [
        "#Getting Input"
      ]
    },
    {
      "cell_type": "markdown",
      "metadata": {
        "id": "axWpdctk5gdf"
      },
      "source": [
        "##Question 6: 100th Birthday Calculator\n"
      ]
    },
    {
      "cell_type": "code",
      "execution_count": 12,
      "metadata": {
        "id": "Q40wlPFD54zV"
      },
      "outputs": [
        {
          "name": "stdout",
          "output_type": "stream",
          "text": [
            "Question 6 passed!\n"
          ]
        }
      ],
      "source": [
        "def calculate_100th_year(name, age):\n",
        "    \"\"\"\n",
        "    Calculate the year when a person will turn 100 years old.\n",
        "    Example: (\"Alice\", 25) -> \"Hello Alice! You will turn 100 years old in 2099.\"\n",
        "    Note: Use current year 2024 for calculations.\n",
        "    \"\"\"\n",
        "    year_100 = 2024 - age + 100\n",
        "    return f\"Hello {name}! You will turn 100 years old in {year_100}.\"\n",
        "     \n",
        "\n",
        "# Test cases\n",
        "assert calculate_100th_year(\"Alice\", 25) == \"Hello Alice! You will turn 100 years old in 2099.\"\n",
        "assert calculate_100th_year(\"Bob\", 50) == \"Hello Bob! You will turn 100 years old in 2074.\"\n",
        "assert calculate_100th_year(\"Charlie\", 0) == \"Hello Charlie! You will turn 100 years old in 2124.\"\n",
        "print(\"Question 6 passed!\")"
      ]
    },
    {
      "cell_type": "markdown",
      "metadata": {
        "id": "e5hoAoza6ALd"
      },
      "source": [
        "##Question 7: Basic Calculator"
      ]
    },
    {
      "cell_type": "code",
      "execution_count": 19,
      "metadata": {
        "id": "A5lGBRTq6KIi"
      },
      "outputs": [
        {
          "name": "stdout",
          "output_type": "stream",
          "text": [
            "Question 7 passed!\n"
          ]
        }
      ],
      "source": [
        "def basic_calculator(num1, num2):\n",
        "    \"\"\"\n",
        "    Perform basic arithmetic operations on two numbers.\n",
        "    Return a tuple containing: (sum, difference, product, quotient)\n",
        "    Handle division by zero by returning \"undefined\" for quotient.\n",
        "    Example: (10, 5) -> (15, 5, 50, 2), (10, 0) -> (10, 10, 0, \"undefined\")\n",
        "    \"\"\"\n",
        "    summa = num1+num2\n",
        "    difference = num1-num2\n",
        "    product = num1*num2\n",
        "    quotient = num2 != 0 and num1/num2 or \"undefined\"\n",
        "    return(summa, difference, product, quotient)\n",
        "\n",
        "# Test cases\n",
        "assert basic_calculator(10, 5) == (15, 5, 50, 2)\n",
        "assert basic_calculator(10, 0) == (10, 10, 0, \"undefined\")\n",
        "assert basic_calculator(7, 3) == (10, 4, 21, 7/3)\n",
        "assert basic_calculator(-5, 2) == (-3, -7, -10, -2.5)\n",
        "print(\"Question 7 passed!\")"
      ]
    },
    {
      "cell_type": "markdown",
      "metadata": {
        "id": "UlMWzjfd6PMk"
      },
      "source": [
        "#Numeric Types"
      ]
    },
    {
      "cell_type": "markdown",
      "metadata": {
        "id": "shtS5Rd06Y03"
      },
      "source": [
        "##Question 8: Circle Area"
      ]
    },
    {
      "cell_type": "code",
      "execution_count": 23,
      "metadata": {
        "id": "Rdp9mFjf6d28"
      },
      "outputs": [
        {
          "name": "stdout",
          "output_type": "stream",
          "text": [
            "Question 8 passed!\n"
          ]
        }
      ],
      "source": [
        "def circle_area(radius):\n",
        "    \"\"\"\n",
        "    Calculate the area of a circle given its radius.\n",
        "    Formula: Area = π * radius²\n",
        "    Use math.pi for the value of π\n",
        "    Example: (5) -> 78.5398..., (0) -> 0, (1) -> 3.14159...\n",
        "    \"\"\"\n",
        "    area = radius*radius * math.pi\n",
        "    return(area)\n",
        "\n",
        "# Test cases\n",
        "import math\n",
        "assert abs(circle_area(5) - 78.5398) < 0.001\n",
        "assert circle_area(0) == 0\n",
        "assert abs(circle_area(1) - 3.14159) < 0.001\n",
        "assert abs(circle_area(10) - 314.159) < 0.1\n",
        "print(\"Question 8 passed!\")"
      ]
    },
    {
      "cell_type": "markdown",
      "metadata": {
        "id": "GPPeqbqV6ijq"
      },
      "source": [
        "#Augmented Assignments"
      ]
    },
    {
      "cell_type": "markdown",
      "metadata": {
        "id": "cSU6cGFF6t-v"
      },
      "source": [
        "##Question 9: To-Do List Tracker"
      ]
    },
    {
      "cell_type": "code",
      "execution_count": 24,
      "metadata": {
        "id": "VfrQmaWs6nSf"
      },
      "outputs": [
        {
          "name": "stdout",
          "output_type": "stream",
          "text": [
            "Question 9 passed!\n"
          ]
        }
      ],
      "source": [
        "def todo_list_tracker(initial_tasks, new_tasks_list):\n",
        "    \"\"\"\n",
        "    Track completed tasks using augmented assignments.\n",
        "    Start with initial_tasks completed, then add each value from new_tasks_list.\n",
        "    Return the final number of completed tasks.\n",
        "    Example: (0, [1, 3, 2]) -> 6, (5, [1, 1, 1]) -> 8\n",
        "    \"\"\"\n",
        "    initial_tasks += sum(new_tasks_list)\n",
        "    return initial_tasks\n",
        "\n",
        "# Test cases\n",
        "assert todo_list_tracker(0, [1, 3, 2]) == 6\n",
        "assert todo_list_tracker(5, [1, 1, 1]) == 8\n",
        "assert todo_list_tracker(10, []) == 10\n",
        "assert todo_list_tracker(0, [5, -2, 3]) == 6  # Negative means removed tasks\n",
        "print(\"Question 9 passed!\")"
      ]
    },
    {
      "cell_type": "markdown",
      "metadata": {
        "id": "fbbm_4-woh-q"
      },
      "source": [
        "##Question 10: Binary Conversion"
      ]
    },
    {
      "cell_type": "markdown",
      "metadata": {
        "id": "b_9DnjONwVnx"
      },
      "source": [
        "Hint - You can use also math operations or use built-in functions."
      ]
    },
    {
      "cell_type": "code",
      "execution_count": null,
      "metadata": {
        "id": "tyN-MTpco0mY"
      },
      "outputs": [
        {
          "name": "stdout",
          "output_type": "stream",
          "text": [
            "Question 10 passed!\n"
          ]
        }
      ],
      "source": [
        "def decimal_to_binary(decimal_num):\n",
        "    \"\"\"\n",
        "    Convert a decimal number to binary representation.\n",
        "    Example: 5 -> '101', 10 -> '1010'\n",
        "    \"\"\"\n",
        "    if decimal_num == 0:\n",
        "        return \"0\"\n",
        "    \n",
        "    binary_str = \"\"\n",
        "    n = decimal_num\n",
        "    while n > 0:\n",
        "        binary_str = str(n % 2) + binary_str \n",
        "        n //= 2\n",
        "    return binary_str\n",
        "\n",
        "# Test cases\n",
        "assert decimal_to_binary(5) == '101'\n",
        "assert decimal_to_binary(10) == '1010'\n",
        "assert decimal_to_binary(0) == '0'\n",
        "assert decimal_to_binary(255) == '11111111'\n",
        "print(\"Question 10 passed!\")"
      ]
    },
    {
      "cell_type": "code",
      "execution_count": 26,
      "metadata": {},
      "outputs": [
        {
          "data": {
            "text/plain": [
              "1"
            ]
          },
          "execution_count": 26,
          "metadata": {},
          "output_type": "execute_result"
        }
      ],
      "source": [
        "5//2//2"
      ]
    },
    {
      "cell_type": "markdown",
      "metadata": {
        "id": "KjMtq5UXpKlM"
      },
      "source": [
        "##Question 11: ASCII Representation"
      ]
    },
    {
      "cell_type": "code",
      "execution_count": null,
      "metadata": {
        "id": "shesIgrMpRik"
      },
      "outputs": [],
      "source": [
        "def char_to_ascii_binary(char):\n",
        "    \"\"\"\n",
        "    Convert a character to its ASCII value in binary.\n",
        "    Example: 'A' -> '01000001', 'a' -> '01100001'\n",
        "    \"\"\"\n",
        "    # Your code here\n",
        "    pass\n",
        "\n",
        "# Test cases\n",
        "assert char_to_ascii_binary('A') == '01000001'\n",
        "assert char_to_ascii_binary('a') == '01100001'\n",
        "assert char_to_ascii_binary('0') == '00110000'\n",
        "print(\"Question 11 passed!\")"
      ]
    },
    {
      "cell_type": "markdown",
      "metadata": {
        "id": "VnpHbUB4rmlB"
      },
      "source": [
        "##Question 12: Binary to Decimal"
      ]
    },
    {
      "cell_type": "code",
      "execution_count": null,
      "metadata": {
        "id": "Zw3CLfShrqX_"
      },
      "outputs": [],
      "source": [
        "def binary_to_decimal(binary_str):\n",
        "    \"\"\"\n",
        "    Convert binary string to decimal number.\n",
        "    Example: '101' -> 5, '1101' -> 13\n",
        "    \"\"\"\n",
        "    # Your code here\n",
        "    pass\n",
        "\n",
        "# Test cases\n",
        "assert binary_to_decimal('101') == 5\n",
        "assert binary_to_decimal('1101') == 13\n",
        "assert binary_to_decimal('0') == 0\n",
        "assert binary_to_decimal('11111111') == 255\n",
        "print(\"Question 12 passed!\")"
      ]
    },
    {
      "cell_type": "markdown",
      "metadata": {
        "id": "-KZy33bDr6aZ"
      },
      "source": [
        "##Question 13: Memory Representation"
      ]
    },
    {
      "cell_type": "code",
      "execution_count": null,
      "metadata": {
        "id": "VxeJBFm7r8BL"
      },
      "outputs": [],
      "source": [
        "def demonstrate_same_bits():\n",
        "    \"\"\"\n",
        "    Show that 'A' and 65 have the same bit pattern in memory.\n",
        "    Return a List: [binary_of_A, binary_of_65, are_they_same]\n",
        "    \"\"\"\n",
        "    # Your code here\n",
        "    pass\n",
        "\n",
        "# Test cases\n",
        "result = demonstrate_same_bits()\n",
        "assert result[0] == result[1]  # Same binary representation\n",
        "assert result[2] == True       # They are the same\n",
        "print(\"Question 13 passed!\")"
      ]
    },
    {
      "cell_type": "markdown",
      "metadata": {
        "id": "ifEYGb42r92C"
      },
      "source": [
        "##Question 14: Number Type Identification"
      ]
    },
    {
      "cell_type": "markdown",
      "metadata": {
        "id": "NaWAtZB4xdTj"
      },
      "source": [
        "Hint - Try using math operations and a list to choose between \"int\" and \"float\".\n",
        "\n",
        "    number = 5.0`\n",
        "\n",
        "    whole_part = number // 1`       # 5.0\n",
        "\n",
        "    fraction = number - whole_part`  # 0.0\n",
        "\n",
        "    fraction == 0 → 'int'\n",
        "\n",
        "    List = ['int', 'float']\n",
        "\n",
        "    List[0] → 'int'"
      ]
    },
    {
      "cell_type": "code",
      "execution_count": 58,
      "metadata": {
        "id": "12zB3rstsBP9"
      },
      "outputs": [
        {
          "name": "stdout",
          "output_type": "stream",
          "text": [
            "Question 14 passed!\n"
          ]
        }
      ],
      "source": [
        "def identify_number_type(number):\n",
        "    \"\"\"\n",
        "    Identify if number is best stored as int or float.\n",
        "    Return \"int\" for whole numbers, \"float\" for decimals.\n",
        "    \"\"\"\n",
        "    if number == int(number):\n",
        "        return \"int\"\n",
        "    else:\n",
        "        return \"float\"\n",
        "\n",
        "\n",
        "# Test cases\n",
        "assert identify_number_type(5) == \"int\"\n",
        "assert identify_number_type(5.0) == \"int\"\n",
        "assert identify_number_type(3.14) == \"float\"\n",
        "assert identify_number_type(-10) == \"int\"\n",
        "print(\"Question 14 passed!\")"
      ]
    },
    {
      "cell_type": "markdown",
      "metadata": {
        "id": "gGgyV957sDCb"
      },
      "source": [
        "##Question 15: String Manipulation"
      ]
    },
    {
      "cell_type": "markdown",
      "metadata": {
        "id": "AMVzNMQbyzZF"
      },
      "source": [
        "    vowel_count = 0\n",
        "    vowel_count += (text[0] in vowels) * 1\n"
      ]
    },
    {
      "cell_type": "code",
      "execution_count": 59,
      "metadata": {
        "id": "DOr_fcyOsHZ0"
      },
      "outputs": [
        {
          "name": "stdout",
          "output_type": "stream",
          "text": [
            "Question 15 passed!\n"
          ]
        }
      ],
      "source": [
        "def string_operations(text):\n",
        "    \"\"\"\n",
        "    Perform: uppercase, reverse, and count vowels.\n",
        "    Return List: [uppercase, reversed, vowel_count]\n",
        "    \"\"\"\n",
        "    upper_text = text.upper()\n",
        "    \n",
        "    reversed_text = text[::-1]\n",
        "\n",
        "    vowels = \"aeiouAEIOU\"\n",
        "    vowel_count = sum(1 for c in text if c in vowels)\n",
        "    \n",
        "    return [upper_text, reversed_text, vowel_count]\n",
        "\n",
        "# Test cases\n",
        "assert string_operations(\"Hello\") == [\"HELLO\", \"olleH\", 2]\n",
        "assert string_operations(\"Python\") == [\"PYTHON\", \"nohtyP\", 1]\n",
        "assert string_operations(\"AEIOU\") == [\"AEIOU\", \"UOIEA\", 5]\n",
        "print(\"Question 15 passed!\")"
      ]
    },
    {
      "cell_type": "markdown",
      "metadata": {
        "id": "n5Xu7oiRsOUm"
      },
      "source": [
        "##Question 16: List Operations"
      ]
    },
    {
      "cell_type": "code",
      "execution_count": 60,
      "metadata": {
        "id": "cC1vHU5CsQ-Y"
      },
      "outputs": [
        {
          "name": "stdout",
          "output_type": "stream",
          "text": [
            "Question 16 passed!\n"
          ]
        }
      ],
      "source": [
        "def list_manipulation(numbers):\n",
        "    \"\"\"\n",
        "    Perform: sort, remove duplicates, find max/min.\n",
        "    Return tuple: (sorted_list, unique_list, max_value, min_value)\n",
        "    \"\"\"\n",
        "    sorted_list = sorted(numbers)\n",
        "    \n",
        "\n",
        "    unique_list = list(dict.fromkeys(numbers))\n",
        "    \n",
        "\n",
        "    max_value = max(numbers)\n",
        "    min_value = min(numbers)\n",
        "    \n",
        "    return (sorted_list, unique_list, max_value, min_value)\n",
        "\n",
        "# Test cases\n",
        "assert list_manipulation([3, 1, 4, 1, 5, 9]) == ([1, 1, 3, 4, 5, 9], [3, 1, 4, 5, 9], 9, 1)\n",
        "assert list_manipulation([5, 5, 5]) == ([5, 5, 5], [5], 5, 5)\n",
        "print(\"Question 16 passed!\")"
      ]
    },
    {
      "cell_type": "markdown",
      "metadata": {
        "id": "0JuDsnZxsdoe"
      },
      "source": [
        "##Question 17: Binary String Operations"
      ]
    },
    {
      "cell_type": "code",
      "execution_count": null,
      "metadata": {
        "id": "fneA4iITsfQe"
      },
      "outputs": [],
      "source": [
        "def binary_string_manipulation(binary_str):\n",
        "    \"\"\"\n",
        "    Take binary string, convert to decimal, then back to binary.\n",
        "    Also count 1s and 0s in original string.\n",
        "    Return List: [decimal_value, new_binary, ones_count, zeros_count]\n",
        "    \"\"\"\n",
        "    decimal_value = binary_to_decimal(binary_str)    # We use Question 7: Binary to Decimal function here\n",
        "    new_binary = decimal_to_binary(decimal_value)    # We use Question 4: Binary Conversion function here\n",
        "    # Your code here\n",
        "    pass\n",
        "\n",
        "# Test cases\n",
        "assert binary_string_manipulation(\"1010\") == [10, '1010', 2, 2]\n",
        "assert binary_string_manipulation(\"1111\") == [15, '1111', 4, 0]\n",
        "print(\"Question 17 passed!\")"
      ]
    },
    {
      "cell_type": "markdown",
      "metadata": {
        "id": "4oxmYfIFsg8n"
      },
      "source": [
        "##Question 18: Data Type Converter"
      ]
    },
    {
      "cell_type": "markdown",
      "metadata": {
        "id": "D-PKm_SB0jY9"
      },
      "source": [
        "Hint\n",
        "\n",
        "1) Think about what you already know:\n",
        "\n",
        "    * chr(number) → gives a character\n",
        "\n",
        "    * ord(character) → gives ASCII number\n",
        "\n",
        "    * format(number, '08b') → gives binary string\n",
        "\n",
        "    * // 1 → removes decimal part of a float\n",
        "\n",
        "2) Use Boolean math instead of if/else:\n",
        "\n",
        "    * True * something = something\n",
        "\n",
        "    * False * something = 0 or ''\n",
        "\n",
        "3) Combine the results in a list or string and select the right one based on target_type.\n",
        "\n",
        "    * Try handling each conversion separately using only math operations, strings, and lists, then pick the one that matches target_type using Boolean multiplication."
      ]
    },
    {
      "cell_type": "code",
      "execution_count": null,
      "metadata": {
        "id": "lTxUK51Sso2Z"
      },
      "outputs": [],
      "source": [
        "def data_type_converter(value, target_type):\n",
        "    \"\"\"\n",
        "    Convert value to target data type.\n",
        "    target_type can be: 'int', 'float', 'str', 'binary'\n",
        "    Example: (65, 'str') -> 'A', ('A', 'binary') -> '01000001'\n",
        "    \"\"\"\n",
        "    # Your code here\n",
        "    pass\n",
        "\n",
        "# Test cases\n",
        "assert data_type_converter(65, 'str') == 'A'\n",
        "assert data_type_converter('A', 'binary') == '01000001'\n",
        "assert data_type_converter('101', 'int') == 5\n",
        "assert data_type_converter(3.14, 'int') == 3\n",
        "print(\"Question 18 passed!\")"
      ]
    },
    {
      "cell_type": "markdown",
      "metadata": {
        "id": "KgoKRA8qsq1e"
      },
      "source": [
        "# Additional Creative Question\n"
      ]
    },
    {
      "cell_type": "markdown",
      "metadata": {
        "id": "zKfpyhbGulfI"
      },
      "source": [
        "## Question 19: Create Your Own"
      ]
    },
    {
      "cell_type": "code",
      "execution_count": null,
      "metadata": {
        "id": "tDVLRyPjs6sc"
      },
      "outputs": [],
      "source": [
        "def create_your_own_question():\n",
        "    \"\"\"\n",
        "    CREATE YOUR OWN QUESTION:\n",
        "    Design a function that demonstrates an interesting concept\n",
        "    from this week's classes (binary, data types, etc.)\n",
        "\n",
        "    Write the question description here:\n",
        "    [Student writes their own question]\n",
        "\n",
        "    Then implement the solution and test cases.\n",
        "    \"\"\"\n",
        "    # Student writes their question and solution\n",
        "    pass\n",
        "\n",
        "# Student writes their own test cases\n",
        "# assert ..."
      ]
    }
  ],
  "metadata": {
    "colab": {
      "provenance": [],
      "toc_visible": true
    },
    "kernelspec": {
      "display_name": "Python 3",
      "name": "python3"
    },
    "language_info": {
      "codemirror_mode": {
        "name": "ipython",
        "version": 3
      },
      "file_extension": ".py",
      "mimetype": "text/x-python",
      "name": "python",
      "nbconvert_exporter": "python",
      "pygments_lexer": "ipython3",
      "version": "3.13.0"
    }
  },
  "nbformat": 4,
  "nbformat_minor": 0
}
