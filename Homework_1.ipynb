{
  "nbformat": 4,
  "nbformat_minor": 0,
  "metadata": {
    "colab": {
      "provenance": [],
      "toc_visible": true
    },
    "kernelspec": {
      "name": "python3",
      "display_name": "Python 3"
    },
    "language_info": {
      "name": "python"
    }
  },
  "cells": [
    {
      "cell_type": "markdown",
      "source": [
        "# Theory Questions"
      ],
      "metadata": {
        "id": "wvrJxcuKt-S1"
      }
    },
    {
      "cell_type": "markdown",
      "source": [
        "## Question 1: CPU and Binary Fundamentals"
      ],
      "metadata": {
        "id": "p07PzKMpvAm-"
      }
    },
    {
      "cell_type": "code",
      "source": [
        "def theory_cpu_binary():\n",
        "    \"\"\"\n",
        "    ANSWER THE FOLLOWING THEORY QUESTIONS:\n",
        "\n",
        "    1. Explain in 2-3 sentences how a CPU processes instructions using only 0s and 1s.\n",
        "\n",
        "    2. Why do we use binary (base-2) instead of decimal (base-10) in computers?\n",
        "\n",
        "    3. How does the CPU differentiate between the number 65 and the character 'A'\n",
        "       if they have the same binary representation?\n",
        "\n",
        "    Return your answers as a list of 3 strings.\n",
        "    \"\"\"\n",
        "    answer1 = \"Your answer here...\"  # Replace with your answer\n",
        "    answer2 = \"Your answer here...\"  # Replace with your answer\n",
        "    answer3 = \"Your answer here...\"  # Replace with your answer\n",
        "\n",
        "    return [answer1, answer2, answer3]\n",
        "\n",
        "# This function tests if answers exist (not content)\n",
        "def test_theory_answers():\n",
        "    answers = theory_cpu_binary()\n",
        "    assert len(answers) == 3, \"Must provide 3 answers\"\n",
        "    assert all(isinstance(ans, str) for ans in answers), \"All answers must be strings\"\n",
        "    assert all(len(ans.strip()) > 0 for ans in answers), \"All answers must be non-empty\"\n",
        "    print(\"Theory Question 1 format passed!\")\n",
        "\n",
        "test_theory_answers()"
      ],
      "metadata": {
        "id": "MQZczLqHt-FU"
      },
      "execution_count": null,
      "outputs": []
    },
    {
      "cell_type": "markdown",
      "source": [
        "##Question 2: Data Types Memory Usage"
      ],
      "metadata": {
        "id": "nYpxHw1wvSgh"
      }
    },
    {
      "cell_type": "code",
      "source": [
        "def theory_data_types():\n",
        "    \"\"\"\n",
        "    ANSWER THE FOLLOWING THEORY QUESTIONS:\n",
        "\n",
        "    1. How many bits are typically used to store:\n",
        "       - An integer in Python?\n",
        "       - A single character?\n",
        "       - A boolean value?\n",
        "\n",
        "    2. Explain why a list can contain different data types but arrays in low-level\n",
        "       languages usually cannot.\n",
        "\n",
        "    3. What happens at the binary level when you convert a string to uppercase?\n",
        "\n",
        "    Return your answers as a dictionary.\n",
        "    \"\"\"\n",
        "    answers = {\n",
        "        \"question1\": \"Your answer here...\",\n",
        "        \"question2\": \"Your answer here...\",\n",
        "        \"question3\": \"Your answer here...\"\n",
        "    }\n",
        "    return answers\n",
        "\n",
        "# Test structure only\n",
        "def test_theory_data_types():\n",
        "    answers = theory_data_types()\n",
        "    assert isinstance(answers, dict), \"Answers must be in dictionary format\"\n",
        "    assert len(answers) == 3, \"Must answer all 3 questions\"\n",
        "    assert all(key in answers for key in [\"question1\", \"question2\", \"question3\"])\n",
        "    print(\"Theory Question 2 format passed!\")\n",
        "\n",
        "test_theory_data_types()"
      ],
      "metadata": {
        "id": "CHIaoUW0vP__"
      },
      "execution_count": null,
      "outputs": []
    },
    {
      "cell_type": "markdown",
      "source": [
        "##Question 3: From Hardware to Programming"
      ],
      "metadata": {
        "id": "JCIw0rghvhL6"
      }
    },
    {
      "cell_type": "code",
      "source": [
        "def theory_hardware_to_code():\n",
        "    \"\"\"\n",
        "    EXPLAIN THE JOURNEY in 4-5 sentences:\n",
        "\n",
        "    Describe the complete process from when you type a letter on your keyboard\n",
        "    to how that character gets stored in memory as binary, and then how Python\n",
        "    interprets it as a string data type.\n",
        "\n",
        "    Include: keyboard input, ASCII conversion, memory storage, and Python's\n",
        "    string object creation.\n",
        "    \"\"\"\n",
        "    explanation = \"\"\"\n",
        "    Your detailed explanation here...\n",
        "\n",
        "    1. First, when I press a key...\n",
        "    2. Then, the keyboard controller...\n",
        "    3. The CPU processes...\n",
        "    4. Finally, Python...\n",
        "    \"\"\"\n",
        "    return explanation\n",
        "\n",
        "def test_theory_journey():\n",
        "    explanation = theory_hardware_to_code()\n",
        "    assert isinstance(explanation, str), \"Answer must be a string\"\n",
        "    assert len(explanation.strip()) > 100, \"Provide a detailed explanation (min 100 characters)\"\n",
        "    # Count sentences roughly by counting periods\n",
        "    sentences = explanation.count('.') + explanation.count('!') + explanation.count('?')\n",
        "    assert sentences >= 3, \"Should have at least 3-4 sentences\"\n",
        "    print(\"Theory Question 3 format passed!\")\n",
        "\n",
        "test_theory_journey()"
      ],
      "metadata": {
        "id": "UCi4Y0-0viL5"
      },
      "execution_count": null,
      "outputs": []
    },
    {
      "cell_type": "markdown",
      "source": [
        "# Coding Questions\n",
        "\n",
        "These questions, Q4 - Q20 cover:\n",
        "\n",
        "* Low-level concepts: Binary conversion, ASCII, memory representation\n",
        "\n",
        "* Data types: Numbers, strings, lists and their operations\n",
        "\n",
        "* Practical applications: Type conversion, string/list manipulation\n",
        "\n",
        "* Creative thinking: Students create their own problems\n",
        "\n",
        "* Advanced challenges: Bit-level operations and encryption\n",
        "\n",
        "Each question includes assertion tests so You can immediately verify Your solutions!"
      ],
      "metadata": {
        "id": "bIN9wrjktkmF"
      }
    },
    {
      "cell_type": "markdown",
      "source": [
        "#Numerical Operations\n"
      ],
      "metadata": {
        "id": "_2pdelxN47Pe"
      }
    },
    {
      "cell_type": "markdown",
      "source": [
        "##Question 4: Rectangle Area\n",
        "\n"
      ],
      "metadata": {
        "id": "LqQpkEo74wRW"
      }
    },
    {
      "cell_type": "code",
      "source": [
        "def rectangle_area(length, width):\n",
        "    \"\"\"\n",
        "    Calculate the area of a rectangle given its length and width.\n",
        "    Example: (5, 3) -> 15, (10.5, 2) -> 21.0\n",
        "    \"\"\"\n",
        "    # Your code here\n",
        "    pass\n",
        "\n",
        "# Test cases\n",
        "assert rectangle_area(5, 3) == 15\n",
        "assert rectangle_area(10.5, 2) == 21.0\n",
        "assert rectangle_area(0, 10) == 0\n",
        "assert rectangle_area(7, 7) == 49\n",
        "print(\"Question 4 passed!\")"
      ],
      "metadata": {
        "id": "-8pcbMKE5C8p"
      },
      "execution_count": null,
      "outputs": []
    },
    {
      "cell_type": "markdown",
      "source": [
        "##Question 5: Celsius to Fahrenheit"
      ],
      "metadata": {
        "id": "FtJixKCr5aBl"
      }
    },
    {
      "cell_type": "code",
      "source": [
        "def celsius_to_fahrenheit(celsius):\n",
        "    \"\"\"\n",
        "    Convert temperature from Celsius to Fahrenheit.\n",
        "    Formula: Fahrenheit = (Celsius * 9/5) + 32\n",
        "    Example: (0) -> 32, (100) -> 212, (37) -> 98.6\n",
        "    \"\"\"\n",
        "    # Your code here\n",
        "    pass\n",
        "\n",
        "# Test cases\n",
        "assert celsius_to_fahrenheit(0) == 32\n",
        "assert celsius_to_fahrenheit(100) == 212\n",
        "assert celsius_to_fahrenheit(37) == 98.6\n",
        "assert celsius_to_fahrenheit(-40) == -40\n",
        "print(\"Question 5 passed!\")"
      ],
      "metadata": {
        "id": "vBuP5YsO5Tl7"
      },
      "execution_count": null,
      "outputs": []
    },
    {
      "cell_type": "markdown",
      "source": [
        "#Getting Input"
      ],
      "metadata": {
        "id": "uihch2jb5qHI"
      }
    },
    {
      "cell_type": "markdown",
      "source": [
        "##Question 6: 100th Birthday Calculator\n"
      ],
      "metadata": {
        "id": "axWpdctk5gdf"
      }
    },
    {
      "cell_type": "code",
      "source": [
        "def calculate_100th_year(name, age):\n",
        "    \"\"\"\n",
        "    Calculate the year when a person will turn 100 years old.\n",
        "    Example: (\"Alice\", 25) -> \"Hello Alice! You will turn 100 years old in 2099.\"\n",
        "    Note: Use current year 2024 for calculations.\n",
        "    \"\"\"\n",
        "    # Your code here\n",
        "    pass\n",
        "\n",
        "# Test cases\n",
        "assert calculate_100th_year(\"Alice\", 25) == \"Hello Alice! You will turn 100 years old in 2099.\"\n",
        "assert calculate_100th_year(\"Bob\", 50) == \"Hello Bob! You will turn 100 years old in 2074.\"\n",
        "assert calculate_100th_year(\"Charlie\", 0) == \"Hello Charlie! You will turn 100 years old in 2124.\"\n",
        "print(\"Question 6 passed!\")"
      ],
      "metadata": {
        "id": "Q40wlPFD54zV"
      },
      "execution_count": null,
      "outputs": []
    },
    {
      "cell_type": "markdown",
      "source": [
        "##Question 7: Basic Calculator"
      ],
      "metadata": {
        "id": "e5hoAoza6ALd"
      }
    },
    {
      "cell_type": "code",
      "source": [
        "def basic_calculator(num1, num2):\n",
        "    \"\"\"\n",
        "    Perform basic arithmetic operations on two numbers.\n",
        "    Return a tuple containing: (sum, difference, product, quotient)\n",
        "    Handle division by zero by returning \"undefined\" for quotient.\n",
        "    Example: (10, 5) -> (15, 5, 50, 2), (10, 0) -> (10, 10, 0, \"undefined\")\n",
        "    \"\"\"\n",
        "    # Your code here\n",
        "    pass\n",
        "\n",
        "# Test cases\n",
        "assert basic_calculator(10, 5) == (15, 5, 50, 2)\n",
        "assert basic_calculator(10, 0) == (10, 10, 0, \"undefined\")\n",
        "assert basic_calculator(7, 3) == (10, 4, 21, 7/3)\n",
        "assert basic_calculator(-5, 2) == (-3, -7, -10, -2.5)\n",
        "print(\"Question 7 passed!\")"
      ],
      "metadata": {
        "id": "A5lGBRTq6KIi"
      },
      "execution_count": null,
      "outputs": []
    },
    {
      "cell_type": "markdown",
      "source": [
        "#Numeric Types"
      ],
      "metadata": {
        "id": "UlMWzjfd6PMk"
      }
    },
    {
      "cell_type": "markdown",
      "source": [
        "##Question 8: Circle Area"
      ],
      "metadata": {
        "id": "shtS5Rd06Y03"
      }
    },
    {
      "cell_type": "code",
      "source": [
        "def circle_area(radius):\n",
        "    \"\"\"\n",
        "    Calculate the area of a circle given its radius.\n",
        "    Formula: Area = π * radius²\n",
        "    Use math.pi for the value of π\n",
        "    Example: (5) -> 78.5398..., (0) -> 0, (1) -> 3.14159...\n",
        "    \"\"\"\n",
        "    # Your code here\n",
        "    pass\n",
        "\n",
        "# Test cases\n",
        "import math\n",
        "assert abs(circle_area(5) - 78.5398) < 0.001\n",
        "assert circle_area(0) == 0\n",
        "assert abs(circle_area(1) - 3.14159) < 0.001\n",
        "assert abs(circle_area(10) - 314.159) < 0.1\n",
        "print(\"Question 8 passed!\")"
      ],
      "metadata": {
        "id": "Rdp9mFjf6d28"
      },
      "execution_count": null,
      "outputs": []
    },
    {
      "cell_type": "markdown",
      "source": [
        "#Augmented Assignments"
      ],
      "metadata": {
        "id": "GPPeqbqV6ijq"
      }
    },
    {
      "cell_type": "markdown",
      "source": [
        "##Question 9: To-Do List Tracker"
      ],
      "metadata": {
        "id": "cSU6cGFF6t-v"
      }
    },
    {
      "cell_type": "code",
      "source": [
        "def todo_list_tracker(initial_tasks, new_tasks_list):\n",
        "    \"\"\"\n",
        "    Track completed tasks using augmented assignments.\n",
        "    Start with initial_tasks completed, then add each value from new_tasks_list.\n",
        "    Return the final number of completed tasks.\n",
        "    Example: (0, [1, 3, 2]) -> 6, (5, [1, 1, 1]) -> 8\n",
        "    \"\"\"\n",
        "    # Your code here\n",
        "    pass\n",
        "\n",
        "# Test cases\n",
        "assert todo_list_tracker(0, [1, 3, 2]) == 6\n",
        "assert todo_list_tracker(5, [1, 1, 1]) == 8\n",
        "assert todo_list_tracker(10, []) == 10\n",
        "assert todo_list_tracker(0, [5, -2, 3]) == 6  # Negative means removed tasks\n",
        "print(\"Question 9 passed!\")"
      ],
      "metadata": {
        "id": "VfrQmaWs6nSf"
      },
      "execution_count": null,
      "outputs": []
    },
    {
      "cell_type": "markdown",
      "source": [
        "##Question 10: Binary Conversion"
      ],
      "metadata": {
        "id": "fbbm_4-woh-q"
      }
    },
    {
      "cell_type": "markdown",
      "source": [
        "Hint - You can use also math operations or use built-in functions."
      ],
      "metadata": {
        "id": "b_9DnjONwVnx"
      }
    },
    {
      "cell_type": "code",
      "source": [
        "def decimal_to_binary(decimal_num):\n",
        "    \"\"\"\n",
        "    Convert a decimal number to binary representation.\n",
        "    Example: 5 -> '101', 10 -> '1010'\n",
        "    \"\"\"\n",
        "    # Your code here\n",
        "    pass\n",
        "\n",
        "# Test cases\n",
        "assert decimal_to_binary(5) == '101'\n",
        "assert decimal_to_binary(10) == '1010'\n",
        "assert decimal_to_binary(0) == '0'\n",
        "assert decimal_to_binary(255) == '11111111'\n",
        "print(\"Question 10 passed!\")"
      ],
      "metadata": {
        "id": "tyN-MTpco0mY"
      },
      "execution_count": null,
      "outputs": []
    },
    {
      "cell_type": "markdown",
      "source": [
        "##Question 11: ASCII Representation"
      ],
      "metadata": {
        "id": "KjMtq5UXpKlM"
      }
    },
    {
      "cell_type": "code",
      "source": [
        "def char_to_ascii_binary(char):\n",
        "    \"\"\"\n",
        "    Convert a character to its ASCII value in binary.\n",
        "    Example: 'A' -> '01000001', 'a' -> '01100001'\n",
        "    \"\"\"\n",
        "    # Your code here\n",
        "    pass\n",
        "\n",
        "# Test cases\n",
        "assert char_to_ascii_binary('A') == '01000001'\n",
        "assert char_to_ascii_binary('a') == '01100001'\n",
        "assert char_to_ascii_binary('0') == '00110000'\n",
        "print(\"Question 11 passed!\")"
      ],
      "metadata": {
        "id": "shesIgrMpRik"
      },
      "execution_count": null,
      "outputs": []
    },
    {
      "cell_type": "markdown",
      "source": [
        "##Question 12: Binary to Decimal"
      ],
      "metadata": {
        "id": "VnpHbUB4rmlB"
      }
    },
    {
      "cell_type": "code",
      "source": [
        "def binary_to_decimal(binary_str):\n",
        "    \"\"\"\n",
        "    Convert binary string to decimal number.\n",
        "    Example: '101' -> 5, '1101' -> 13\n",
        "    \"\"\"\n",
        "    # Your code here\n",
        "    pass\n",
        "\n",
        "# Test cases\n",
        "assert binary_to_decimal('101') == 5\n",
        "assert binary_to_decimal('1101') == 13\n",
        "assert binary_to_decimal('0') == 0\n",
        "assert binary_to_decimal('11111111') == 255\n",
        "print(\"Question 12 passed!\")"
      ],
      "metadata": {
        "id": "Zw3CLfShrqX_"
      },
      "execution_count": null,
      "outputs": []
    },
    {
      "cell_type": "markdown",
      "source": [
        "##Question 13: Memory Representation"
      ],
      "metadata": {
        "id": "-KZy33bDr6aZ"
      }
    },
    {
      "cell_type": "code",
      "source": [
        "def demonstrate_same_bits():\n",
        "    \"\"\"\n",
        "    Show that 'A' and 65 have the same bit pattern in memory.\n",
        "    Return a List: [binary_of_A, binary_of_65, are_they_same]\n",
        "    \"\"\"\n",
        "    # Your code here\n",
        "    pass\n",
        "\n",
        "# Test cases\n",
        "result = demonstrate_same_bits()\n",
        "assert result[0] == result[1]  # Same binary representation\n",
        "assert result[2] == True       # They are the same\n",
        "print(\"Question 13 passed!\")"
      ],
      "metadata": {
        "id": "VxeJBFm7r8BL"
      },
      "execution_count": null,
      "outputs": []
    },
    {
      "cell_type": "markdown",
      "source": [
        "##Question 14: Number Type Identification"
      ],
      "metadata": {
        "id": "ifEYGb42r92C"
      }
    },
    {
      "cell_type": "markdown",
      "source": [
        "Hint - Try using math operations and a list to choose between \"int\" and \"float\".\n",
        "\n",
        "    number = 5.0`\n",
        "\n",
        "    whole_part = number // 1`       # 5.0\n",
        "\n",
        "    fraction = number - whole_part`  # 0.0\n",
        "\n",
        "    fraction == 0 → 'int'\n",
        "\n",
        "    List = ['int', 'float']\n",
        "\n",
        "    List[0] → 'int'"
      ],
      "metadata": {
        "id": "NaWAtZB4xdTj"
      }
    },
    {
      "cell_type": "code",
      "source": [
        "def identify_number_type(number):\n",
        "    \"\"\"\n",
        "    Identify if number is best stored as int or float.\n",
        "    Return \"int\" for whole numbers, \"float\" for decimals.\n",
        "    \"\"\"\n",
        "    # Your code here\n",
        "    pass\n",
        "\n",
        "# Test cases\n",
        "assert identify_number_type(5) == \"int\"\n",
        "assert identify_number_type(5.0) == \"int\"\n",
        "assert identify_number_type(3.14) == \"float\"\n",
        "assert identify_number_type(-10) == \"int\"\n",
        "print(\"Question 14 passed!\")"
      ],
      "metadata": {
        "id": "12zB3rstsBP9"
      },
      "execution_count": null,
      "outputs": []
    },
    {
      "cell_type": "markdown",
      "source": [
        "##Question 15: String Manipulation"
      ],
      "metadata": {
        "id": "gGgyV957sDCb"
      }
    },
    {
      "cell_type": "markdown",
      "source": [
        "    vowel_count = 0\n",
        "    vowel_count += (text[0] in vowels) * 1\n"
      ],
      "metadata": {
        "id": "AMVzNMQbyzZF"
      }
    },
    {
      "cell_type": "code",
      "source": [
        "def string_operations(text):\n",
        "    \"\"\"\n",
        "    Perform: uppercase, reverse, and count vowels.\n",
        "    Return List: [uppercase, reversed, vowel_count]\n",
        "    \"\"\"\n",
        "    # Your code here\n",
        "    pass\n",
        "\n",
        "# Test cases\n",
        "assert string_operations(\"Hello\") == [\"HELLO\", \"olleH\", 2]\n",
        "assert string_operations(\"Python\") == [\"PYTHON\", \"nohtyP\", 1]\n",
        "assert string_operations(\"AEIOU\") == [\"AEIOU\", \"UOIEA\", 5]\n",
        "print(\"Question 15 passed!\")"
      ],
      "metadata": {
        "id": "DOr_fcyOsHZ0"
      },
      "execution_count": null,
      "outputs": []
    },
    {
      "cell_type": "markdown",
      "source": [
        "##Question 16: List Operations"
      ],
      "metadata": {
        "id": "n5Xu7oiRsOUm"
      }
    },
    {
      "cell_type": "code",
      "source": [
        "def list_manipulation(numbers):\n",
        "    \"\"\"\n",
        "    Perform: sort, remove duplicates, find max/min.\n",
        "    Return tuple: (sorted_list, unique_list, max_value, min_value)\n",
        "    \"\"\"\n",
        "    # Your code here\n",
        "    pass\n",
        "\n",
        "# Test cases\n",
        "assert list_manipulation([3, 1, 4, 1, 5, 9]) == ([1, 1, 3, 4, 5, 9], [3, 1, 4, 5, 9], 9, 1)\n",
        "assert list_manipulation([5, 5, 5]) == ([5, 5, 5], [5], 5, 5)\n",
        "print(\"Question 16 passed!\")"
      ],
      "metadata": {
        "id": "cC1vHU5CsQ-Y"
      },
      "execution_count": null,
      "outputs": []
    },
    {
      "cell_type": "markdown",
      "source": [
        "##Question 17: Binary String Operations"
      ],
      "metadata": {
        "id": "0JuDsnZxsdoe"
      }
    },
    {
      "cell_type": "code",
      "source": [
        "def binary_string_manipulation(binary_str):\n",
        "    \"\"\"\n",
        "    Take binary string, convert to decimal, then back to binary.\n",
        "    Also count 1s and 0s in original string.\n",
        "    Return List: [decimal_value, new_binary, ones_count, zeros_count]\n",
        "    \"\"\"\n",
        "    decimal_value = binary_to_decimal(binary_str)    # We use Question 7: Binary to Decimal function here\n",
        "    new_binary = decimal_to_binary(decimal_value)    # We use Question 4: Binary Conversion function here\n",
        "    # Your code here\n",
        "    pass\n",
        "\n",
        "# Test cases\n",
        "assert binary_string_manipulation(\"1010\") == [10, '1010', 2, 2]\n",
        "assert binary_string_manipulation(\"1111\") == [15, '1111', 4, 0]\n",
        "print(\"Question 17 passed!\")"
      ],
      "metadata": {
        "id": "fneA4iITsfQe"
      },
      "execution_count": null,
      "outputs": []
    },
    {
      "cell_type": "markdown",
      "source": [
        "##Question 18: Data Type Converter"
      ],
      "metadata": {
        "id": "4oxmYfIFsg8n"
      }
    },
    {
      "cell_type": "markdown",
      "source": [
        "Hint\n",
        "\n",
        "1) Think about what you already know:\n",
        "\n",
        "    * chr(number) → gives a character\n",
        "\n",
        "    * ord(character) → gives ASCII number\n",
        "\n",
        "    * format(number, '08b') → gives binary string\n",
        "\n",
        "    * // 1 → removes decimal part of a float\n",
        "\n",
        "2) Use Boolean math instead of if/else:\n",
        "\n",
        "    * True * something = something\n",
        "\n",
        "    * False * something = 0 or ''\n",
        "\n",
        "3) Combine the results in a list or string and select the right one based on target_type.\n",
        "\n",
        "    * Try handling each conversion separately using only math operations, strings, and lists, then pick the one that matches target_type using Boolean multiplication."
      ],
      "metadata": {
        "id": "D-PKm_SB0jY9"
      }
    },
    {
      "cell_type": "code",
      "source": [
        "def data_type_converter(value, target_type):\n",
        "    \"\"\"\n",
        "    Convert value to target data type.\n",
        "    target_type can be: 'int', 'float', 'str', 'binary'\n",
        "    Example: (65, 'str') -> 'A', ('A', 'binary') -> '01000001'\n",
        "    \"\"\"\n",
        "    # Your code here\n",
        "    pass\n",
        "\n",
        "# Test cases\n",
        "assert data_type_converter(65, 'str') == 'A'\n",
        "assert data_type_converter('A', 'binary') == '01000001'\n",
        "assert data_type_converter('101', 'int') == 5\n",
        "assert data_type_converter(3.14, 'int') == 3\n",
        "print(\"Question 18 passed!\")"
      ],
      "metadata": {
        "id": "lTxUK51Sso2Z"
      },
      "execution_count": null,
      "outputs": []
    },
    {
      "cell_type": "markdown",
      "source": [
        "# Additional Creative Question\n"
      ],
      "metadata": {
        "id": "KgoKRA8qsq1e"
      }
    },
    {
      "cell_type": "markdown",
      "source": [
        "## Question 19: Create Your Own"
      ],
      "metadata": {
        "id": "zKfpyhbGulfI"
      }
    },
    {
      "cell_type": "code",
      "source": [
        "def create_your_own_question():\n",
        "    \"\"\"\n",
        "    CREATE YOUR OWN QUESTION:\n",
        "    Design a function that demonstrates an interesting concept\n",
        "    from this week's classes (binary, data types, etc.)\n",
        "\n",
        "    Write the question description here:\n",
        "    [Student writes their own question]\n",
        "\n",
        "    Then implement the solution and test cases.\n",
        "    \"\"\"\n",
        "    # Student writes their question and solution\n",
        "    pass\n",
        "\n",
        "# Student writes their own test cases\n",
        "# assert ..."
      ],
      "metadata": {
        "id": "tDVLRyPjs6sc"
      },
      "execution_count": null,
      "outputs": []
    }
  ]
}